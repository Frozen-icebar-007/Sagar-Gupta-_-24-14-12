{
 "cells": [
  {
   "cell_type": "markdown",
   "id": "db6fe37f-a39d-4acd-9b89-c770778cbe95",
   "metadata": {},
   "source": [
    "# SAGAR GUPTA_24-14-12_Modeling & simulation_Assn-2"
   ]
  },
  {
   "cell_type": "code",
   "execution_count": 157,
   "id": "0c6babde-3af9-4164-a088-34c8b3fbe239",
   "metadata": {},
   "outputs": [],
   "source": [
    "import numpy as np"
   ]
  },
  {
   "cell_type": "markdown",
   "id": "6b93521f-56ba-478d-9ef7-118b5eec4d0e",
   "metadata": {},
   "source": [
    "## Question no. 1"
   ]
  },
  {
   "cell_type": "markdown",
   "id": "4e76f94d-5a3a-4942-9d0b-60971776b8d9",
   "metadata": {},
   "source": [
    "##### a) Create a variable named var1 that stores an array of numbers from 1 to 30, \n",
    "inclusive. Print var1 and its shape. Hint : arange"
   ]
  },
  {
   "cell_type": "code",
   "execution_count": 160,
   "id": "c4992f7b-19ae-479b-856a-46e5d10a268a",
   "metadata": {},
   "outputs": [
    {
     "data": {
      "text/plain": [
       "array([ 1,  2,  3,  4,  5,  6,  7,  8,  9, 10, 11, 12, 13, 14, 15, 16, 17,\n",
       "       18, 19, 20, 21, 22, 23, 24, 25, 26, 27, 28, 29, 30])"
      ]
     },
     "execution_count": 160,
     "metadata": {},
     "output_type": "execute_result"
    }
   ],
   "source": [
    "var1 = np.arange(1,31)\n",
    "var1"
   ]
  },
  {
   "cell_type": "code",
   "execution_count": 162,
   "id": "dd477ce3-11cc-434a-a561-3bb898e4e482",
   "metadata": {},
   "outputs": [
    {
     "data": {
      "text/plain": [
       "(30,)"
      ]
     },
     "execution_count": 162,
     "metadata": {},
     "output_type": "execute_result"
    }
   ],
   "source": [
    "np.shape(var1)"
   ]
  },
  {
   "cell_type": "markdown",
   "id": "65091b3c-70fc-48e3-b694-d3b4cb15c367",
   "metadata": {},
   "source": [
    "##### b) Change var2 to a validly-shaped two-dimensional matrix and store it in a\r\n",
    "new variable called var2. Print var2 and its shape. Hint: Use the reshape function"
   ]
  },
  {
   "cell_type": "code",
   "execution_count": 165,
   "id": "36327ecb-6eea-4f44-aed2-fb2f769c69e7",
   "metadata": {},
   "outputs": [
    {
     "data": {
      "text/plain": [
       "array([[ 1,  2,  3,  4,  5,  6],\n",
       "       [ 7,  8,  9, 10, 11, 12],\n",
       "       [13, 14, 15, 16, 17, 18],\n",
       "       [19, 20, 21, 22, 23, 24],\n",
       "       [25, 26, 27, 28, 29, 30]])"
      ]
     },
     "execution_count": 165,
     "metadata": {},
     "output_type": "execute_result"
    }
   ],
   "source": [
    "var2 = np.reshape(var1,(5,6))\n",
    "var2"
   ]
  },
  {
   "cell_type": "code",
   "execution_count": 167,
   "id": "56a15c17-bbdb-42bd-bc5e-b5ad40dd63d4",
   "metadata": {},
   "outputs": [
    {
     "data": {
      "text/plain": [
       "(5, 6)"
      ]
     },
     "execution_count": 167,
     "metadata": {},
     "output_type": "execute_result"
    }
   ],
   "source": [
    "np.shape(var2)"
   ]
  },
  {
   "cell_type": "markdown",
   "id": "98c96c0e-b9e8-4f41-9303-2a2ee78b9a9b",
   "metadata": {},
   "source": [
    "##### c) Create a third variable, var3 that reshapes it into a valid three-dimensional shape.\r\n",
    "Print var3 and its shape."
   ]
  },
  {
   "cell_type": "code",
   "execution_count": 170,
   "id": "51d08ae4-e4a0-4641-9b22-f47556b9f463",
   "metadata": {},
   "outputs": [],
   "source": [
    "var3 = np.reshape(var2,(3,2,5))"
   ]
  },
  {
   "cell_type": "code",
   "execution_count": 172,
   "id": "51faa367-86e9-494c-a41e-6e00149fcea9",
   "metadata": {},
   "outputs": [
    {
     "data": {
      "text/plain": [
       "array([[[ 1,  2,  3,  4,  5],\n",
       "        [ 6,  7,  8,  9, 10]],\n",
       "\n",
       "       [[11, 12, 13, 14, 15],\n",
       "        [16, 17, 18, 19, 20]],\n",
       "\n",
       "       [[21, 22, 23, 24, 25],\n",
       "        [26, 27, 28, 29, 30]]])"
      ]
     },
     "execution_count": 172,
     "metadata": {},
     "output_type": "execute_result"
    }
   ],
   "source": [
    "var3"
   ]
  },
  {
   "cell_type": "code",
   "execution_count": 174,
   "id": "e4d24ebe-1419-45d4-b6fd-8c40878dc956",
   "metadata": {},
   "outputs": [
    {
     "data": {
      "text/plain": [
       "(3, 2, 5)"
      ]
     },
     "execution_count": 174,
     "metadata": {},
     "output_type": "execute_result"
    }
   ],
   "source": [
    "np.shape(var3)"
   ]
  },
  {
   "cell_type": "markdown",
   "id": "82f7f115-aa6e-4605-969e-1f565f0be8ca",
   "metadata": {},
   "source": [
    "##### d) Use two-dimensional array indexing to set the first value in the second row of var2 \n",
    "to -1. Now look at var1 and var3. Did they change? Explain what’s\r\n",
    "going on. (Hint: does reshape return a view or a copy?)"
   ]
  },
  {
   "cell_type": "code",
   "execution_count": 177,
   "id": "a4f40f99-112b-4445-8068-c6017ad83c14",
   "metadata": {},
   "outputs": [],
   "source": [
    "var2[1,0] = -1"
   ]
  },
  {
   "cell_type": "code",
   "execution_count": 179,
   "id": "66c50858-ba0b-4667-8a7c-3d522ce38571",
   "metadata": {},
   "outputs": [
    {
     "data": {
      "text/plain": [
       "array([[ 1,  2,  3,  4,  5,  6],\n",
       "       [-1,  8,  9, 10, 11, 12],\n",
       "       [13, 14, 15, 16, 17, 18],\n",
       "       [19, 20, 21, 22, 23, 24],\n",
       "       [25, 26, 27, 28, 29, 30]])"
      ]
     },
     "execution_count": 179,
     "metadata": {},
     "output_type": "execute_result"
    }
   ],
   "source": [
    "var2"
   ]
  },
  {
   "cell_type": "code",
   "execution_count": 181,
   "id": "d280e474-a9d2-4315-97ca-34c7e8162739",
   "metadata": {},
   "outputs": [
    {
     "data": {
      "text/plain": [
       "array([ 1,  2,  3,  4,  5,  6, -1,  8,  9, 10, 11, 12, 13, 14, 15, 16, 17,\n",
       "       18, 19, 20, 21, 22, 23, 24, 25, 26, 27, 28, 29, 30])"
      ]
     },
     "execution_count": 181,
     "metadata": {},
     "output_type": "execute_result"
    }
   ],
   "source": [
    "var1"
   ]
  },
  {
   "cell_type": "code",
   "execution_count": 183,
   "id": "ba83624c-428e-4025-8285-2a22f002b48a",
   "metadata": {},
   "outputs": [
    {
     "data": {
      "text/plain": [
       "array([[[ 1,  2,  3,  4,  5],\n",
       "        [ 6, -1,  8,  9, 10]],\n",
       "\n",
       "       [[11, 12, 13, 14, 15],\n",
       "        [16, 17, 18, 19, 20]],\n",
       "\n",
       "       [[21, 22, 23, 24, 25],\n",
       "        [26, 27, 28, 29, 30]]])"
      ]
     },
     "execution_count": 183,
     "metadata": {},
     "output_type": "execute_result"
    }
   ],
   "source": [
    "var3"
   ]
  },
  {
   "cell_type": "code",
   "execution_count": 185,
   "id": "ae36d8b2-d1d3-480b-8e53-fb836d62e90f",
   "metadata": {},
   "outputs": [],
   "source": [
    "# reshape creates a view if the layout of first array is same as the new array (no new memory allocation) \n",
    "# smae view means the change in the elements of new array wiil affect the original array too\n",
    "# reshape can also be a copy if the layout or memory allocation is diffrent then the reshaped array \n",
    "# will have no affect on the original aaray\n",
    "\n",
    "# in this memory is same thats why reshape is a view"
   ]
  },
  {
   "cell_type": "markdown",
   "id": "252b115d-cc92-4cea-9222-f560c4518353",
   "metadata": {},
   "source": [
    "##### Another thing that comes up a lot with array shapes is thinking about how to\r\n",
    "aggregate over specific dimensions. Figure out how the NumPy sum function\r\n",
    "works (and the axis argument in particular) and do the following:"
   ]
  },
  {
   "cell_type": "markdown",
   "id": "64b8f526-ba6b-43d2-beec-18f5b4535477",
   "metadata": {},
   "source": [
    "##### (i) Sum var3 over its second dimension and print the result."
   ]
  },
  {
   "cell_type": "code",
   "execution_count": 189,
   "id": "40f10ed2-1866-4a5e-a098-d5f9a27bde59",
   "metadata": {},
   "outputs": [
    {
     "data": {
      "text/plain": [
       "array([[ 7,  1, 11, 13, 15],\n",
       "       [27, 29, 31, 33, 35],\n",
       "       [47, 49, 51, 53, 55]])"
      ]
     },
     "execution_count": 189,
     "metadata": {},
     "output_type": "execute_result"
    }
   ],
   "source": [
    "np.sum(var3,axis=1)"
   ]
  },
  {
   "cell_type": "markdown",
   "id": "c46d4b15-6e8e-4aa0-9a9e-d7f740ce562e",
   "metadata": {},
   "source": [
    "##### (ii) Sum var3 over its third dimension and print the result."
   ]
  },
  {
   "cell_type": "code",
   "execution_count": 192,
   "id": "e5e2a218-1ce0-4d33-9308-4cdd95b739c5",
   "metadata": {},
   "outputs": [
    {
     "data": {
      "text/plain": [
       "array([[ 15,  32],\n",
       "       [ 65,  90],\n",
       "       [115, 140]])"
      ]
     },
     "execution_count": 192,
     "metadata": {},
     "output_type": "execute_result"
    }
   ],
   "source": [
    "var3.sum(axis=2)"
   ]
  },
  {
   "cell_type": "markdown",
   "id": "9a704f53-1d10-48b8-aea9-ef495d103165",
   "metadata": {},
   "source": [
    "##### (iii) Sum var3 over both its first and third dimensions and print the result."
   ]
  },
  {
   "cell_type": "code",
   "execution_count": 195,
   "id": "6aa3325b-850d-469a-bd0f-d0fa25cf0a5f",
   "metadata": {},
   "outputs": [
    {
     "data": {
      "text/plain": [
       "array([195, 262])"
      ]
     },
     "execution_count": 195,
     "metadata": {},
     "output_type": "execute_result"
    }
   ],
   "source": [
    "var3.sum(axis=(0,2))"
   ]
  },
  {
   "cell_type": "markdown",
   "id": "63d00ce4-ee02-46c2-97d2-7a4b1b55b05a",
   "metadata": {},
   "source": [
    "f) Write code to do the following:"
   ]
  },
  {
   "cell_type": "markdown",
   "id": "ab0f5e39-ea41-4775-bfb6-1629e8141eda",
   "metadata": {},
   "source": [
    "##### (i) Slice out the second row of var2 and print it."
   ]
  },
  {
   "cell_type": "code",
   "execution_count": 202,
   "id": "e354f313-57d3-4e78-83da-30ea061fbfab",
   "metadata": {},
   "outputs": [
    {
     "data": {
      "text/plain": [
       "array([-1,  8,  9, 10, 11, 12])"
      ]
     },
     "execution_count": 202,
     "metadata": {},
     "output_type": "execute_result"
    }
   ],
   "source": [
    "var2[1]"
   ]
  },
  {
   "cell_type": "markdown",
   "id": "e7202283-bf68-4241-b6be-82aac703f496",
   "metadata": {},
   "source": [
    "##### (ii) Slice out the last column of var2 using the -1 notation and print it."
   ]
  },
  {
   "cell_type": "code",
   "execution_count": 205,
   "id": "6a30e64b-2c14-4e5c-80c3-8c90ce7bfc70",
   "metadata": {},
   "outputs": [
    {
     "data": {
      "text/plain": [
       "array([ 6, 12, 18, 24, 30])"
      ]
     },
     "execution_count": 205,
     "metadata": {},
     "output_type": "execute_result"
    }
   ],
   "source": [
    "var2[:,-1]"
   ]
  },
  {
   "cell_type": "markdown",
   "id": "7de6d417-96ba-410e-bba2-82e82f099bbc",
   "metadata": {},
   "source": [
    "##### (iii) Slice out the top right 2 × 2 submatrix of var2 and print it."
   ]
  },
  {
   "cell_type": "code",
   "execution_count": 208,
   "id": "6dff50ce-4c71-4b3d-a909-26e0044c9700",
   "metadata": {},
   "outputs": [
    {
     "data": {
      "text/plain": [
       "array([[ 1,  2],\n",
       "       [-1,  8]])"
      ]
     },
     "execution_count": 208,
     "metadata": {},
     "output_type": "execute_result"
    }
   ],
   "source": [
    "var2[:2,:2]"
   ]
  },
  {
   "cell_type": "markdown",
   "id": "be65b402-880e-49c4-8ae4-889e31a50661",
   "metadata": {},
   "source": [
    "## Question no. 2"
   ]
  },
  {
   "cell_type": "markdown",
   "id": "f52c5571-e67d-44bb-a504-ad151257560a",
   "metadata": {},
   "source": [
    "#### a) The most basic kind of broadcast is with a scalar, in which you can perform a\r\n",
    "binary operation (e.g., add, multiply, ...) on an array and a scalar, the effect is to\r\n",
    "perform that operation with the scalar for every element of the array. To try this\r\n",
    "out, create a vector 1, 2, . . . , 10 by adding 1 to the result of the arange function."
   ]
  },
  {
   "cell_type": "code",
   "execution_count": 218,
   "id": "83e4efe6-4184-476d-93f6-382cc49b451f",
   "metadata": {},
   "outputs": [
    {
     "data": {
      "text/plain": [
       "array([0, 1, 2, 3, 4, 5, 6, 7, 8, 9])"
      ]
     },
     "execution_count": 218,
     "metadata": {},
     "output_type": "execute_result"
    }
   ],
   "source": [
    "a = np.arange(10)\n",
    "a"
   ]
  },
  {
   "cell_type": "code",
   "execution_count": 220,
   "id": "ce2bcefe-cdee-4a33-ada4-12fe72048c37",
   "metadata": {},
   "outputs": [
    {
     "data": {
      "text/plain": [
       "array([ 1,  2,  3,  4,  5,  6,  7,  8,  9, 10])"
      ]
     },
     "execution_count": 220,
     "metadata": {},
     "output_type": "execute_result"
    }
   ],
   "source": [
    "a = a+1\n",
    "a"
   ]
  },
  {
   "cell_type": "markdown",
   "id": "2bc2f897-7d3f-4a93-9906-5af4305706ff",
   "metadata": {},
   "source": [
    "#### b) Now, create a 10 × 10 matrix A in which Ai j = i + j. You’ll be able to do this\r\n",
    "using the vector you just created, and adding it to a reshaped version of itself."
   ]
  },
  {
   "cell_type": "code",
   "execution_count": 231,
   "id": "67525642-d32b-4bdf-9cbd-bc337b421a64",
   "metadata": {},
   "outputs": [
    {
     "data": {
      "text/plain": [
       "array([[ 2,  3,  4,  5,  6,  7,  8,  9, 10, 11],\n",
       "       [ 3,  4,  5,  6,  7,  8,  9, 10, 11, 12],\n",
       "       [ 4,  5,  6,  7,  8,  9, 10, 11, 12, 13],\n",
       "       [ 5,  6,  7,  8,  9, 10, 11, 12, 13, 14],\n",
       "       [ 6,  7,  8,  9, 10, 11, 12, 13, 14, 15],\n",
       "       [ 7,  8,  9, 10, 11, 12, 13, 14, 15, 16],\n",
       "       [ 8,  9, 10, 11, 12, 13, 14, 15, 16, 17],\n",
       "       [ 9, 10, 11, 12, 13, 14, 15, 16, 17, 18],\n",
       "       [10, 11, 12, 13, 14, 15, 16, 17, 18, 19],\n",
       "       [11, 12, 13, 14, 15, 16, 17, 18, 19, 20]])"
      ]
     },
     "execution_count": 231,
     "metadata": {},
     "output_type": "execute_result"
    }
   ],
   "source": [
    "# i am using the previous a that's why matrix start's from 2\n",
    "b = a.reshape(-1,1)\n",
    "b + a"
   ]
  },
  {
   "cell_type": "markdown",
   "id": "e501c1c0-47b4-4e98-bdb4-43626dc60651",
   "metadata": {},
   "source": [
    "#### c) A very common use of broadcasting is to standardize data, i.e., to make it have\r\n",
    "zero mean and unit variance. First, create a fake “data set” with 50 examples,\r\n",
    "each with five dimensions.\r\n",
    "import numpy.random as npr\r\n",
    "data = np.exp(npr.randn ( 50 , 5 ) )"
   ]
  },
  {
   "cell_type": "code",
   "execution_count": 237,
   "id": "b103a120-37c2-4546-aae3-b62c245e90fd",
   "metadata": {},
   "outputs": [],
   "source": [
    "import numpy.random as npr\n",
    "data = np.exp(npr.randn ( 50 , 5 ))"
   ]
  },
  {
   "cell_type": "code",
   "execution_count": 239,
   "id": "6fb7ebf1-ed18-49ed-b52c-3701fb0b996c",
   "metadata": {},
   "outputs": [
    {
     "data": {
      "text/plain": [
       "array([[ 1.80662444,  2.24763931,  5.16164094,  1.20030066,  0.98419222],\n",
       "       [ 0.97497038,  0.78865725,  1.31801925,  0.27984531,  0.3559853 ],\n",
       "       [ 0.06736251,  0.39036073,  0.34367988,  0.50224853,  0.80260071],\n",
       "       [ 0.29801782,  0.23674562,  3.03728329,  1.63623517,  0.48805122],\n",
       "       [ 5.51035599,  0.52303598,  3.15917149,  0.18839466,  1.45064908],\n",
       "       [ 1.43965581,  2.83490823,  2.06648746,  1.46853885,  1.79050322],\n",
       "       [ 0.20364959,  2.35196116,  0.37574091,  0.60008555,  0.64452627],\n",
       "       [ 1.69348718,  1.06673928,  0.80387053,  0.39546066,  1.32375455],\n",
       "       [ 0.30352049,  3.50612425,  0.24718213,  0.33957367,  3.55219315],\n",
       "       [ 1.25910658,  0.58460655,  1.36930782,  1.39978729,  0.38900792],\n",
       "       [ 1.6866596 ,  0.27639087,  0.92691088,  0.96136316,  1.86102891],\n",
       "       [ 1.6026321 ,  0.60079999,  0.55768467,  0.61321872,  0.62938301],\n",
       "       [ 0.09419729,  0.81307964,  1.02942029,  0.28938348,  2.29423194],\n",
       "       [ 3.50190892,  0.15338189,  3.35409857,  0.3875003 ,  2.54773567],\n",
       "       [ 1.05894319,  2.04463858,  2.28106609,  0.80603882,  1.21290652],\n",
       "       [ 1.44913455,  2.67141306,  3.95641716,  0.43934285,  8.21340367],\n",
       "       [ 0.36412475,  6.07861493,  3.72280138,  1.17575294,  0.73665684],\n",
       "       [ 2.97060602,  0.29961261,  2.48376365,  0.75029505,  0.49935959],\n",
       "       [ 0.91570643,  0.57609534,  4.72919267,  0.88526849, 13.79953695],\n",
       "       [ 3.10900885,  2.02763097,  0.7279637 ,  1.13930502,  3.41383439],\n",
       "       [ 1.27894415,  1.39927895,  1.71363254,  0.34369819,  0.30556005],\n",
       "       [ 4.14684383,  0.76324484,  1.98530576,  1.26816567,  0.88638352],\n",
       "       [ 0.10459225,  0.29162519,  1.71914189,  1.33924342,  1.68139853],\n",
       "       [ 1.45833578,  0.57351536,  0.88627509,  1.1670513 ,  0.70509194],\n",
       "       [ 0.39090168,  0.4792433 ,  6.86062812,  0.11623742,  2.87045929],\n",
       "       [ 0.41181497,  1.48675802,  2.54043302,  0.74820786,  3.93537494],\n",
       "       [ 1.57148982,  0.6154403 ,  0.22565363,  0.77361971,  0.26487905],\n",
       "       [ 0.82692751,  1.49430398,  3.70889181,  0.33688631,  0.86067412],\n",
       "       [ 2.20246797,  0.1634654 ,  0.29386137,  0.1538839 ,  1.33577744],\n",
       "       [ 0.39553177,  3.89629689,  0.33895155,  2.5789721 ,  1.37310562],\n",
       "       [ 0.96392046,  1.0085287 ,  3.47458075,  0.23826655,  1.80132807],\n",
       "       [ 0.60255727,  0.92040676,  2.38608203,  0.73985378,  1.24838169],\n",
       "       [ 0.68370098,  0.42691947,  0.6868023 ,  2.17396694,  1.40306592],\n",
       "       [ 3.70751535,  2.20216218,  5.8766404 ,  0.29263591,  4.23407377],\n",
       "       [ 2.07847583,  3.21538159,  1.98080924,  0.30274131,  2.16187627],\n",
       "       [ 1.27312858,  0.43781363, 15.66452248,  0.20608046,  0.64776105],\n",
       "       [ 1.56078514,  0.5537316 ,  0.33867578,  0.41165541,  0.49150448],\n",
       "       [ 1.22591732,  3.00269193,  0.53823261,  0.43438141,  1.94542845],\n",
       "       [ 0.13348119,  4.29482923,  1.79628121,  0.09094784,  0.91741978],\n",
       "       [ 0.25505778,  3.86048491,  0.31010331,  2.70065881,  0.41312979],\n",
       "       [ 0.29831892,  1.52179646,  0.81977625,  0.77139249,  1.26506327],\n",
       "       [ 0.35260502,  4.32419413,  0.39930035,  1.02566427,  0.32080491],\n",
       "       [ 0.57721189,  5.56881122,  0.76068419,  0.95910348,  0.75940846],\n",
       "       [ 1.25002825,  1.77694782,  0.83544696,  1.35356197,  0.53035599],\n",
       "       [ 0.90866437,  1.83618074,  0.49672096,  4.48858736,  0.42691301],\n",
       "       [ 1.46054355,  1.55325396,  1.17323705,  0.99257583,  0.71516398],\n",
       "       [ 1.46983064,  0.51219452,  0.94987229,  0.24451938,  1.08064577],\n",
       "       [ 0.51602506,  1.36510884,  1.1629826 ,  2.19917769,  1.27183064],\n",
       "       [ 1.46089686,  0.88606225,  4.32246391,  0.77850698,  0.10954004],\n",
       "       [ 1.12365816,  0.44480973,  1.9128365 ,  0.67853262,  0.99417369]])"
      ]
     },
     "execution_count": 239,
     "metadata": {},
     "output_type": "execute_result"
    }
   ],
   "source": [
    "data"
   ]
  },
  {
   "cell_type": "markdown",
   "id": "a925d2cf-015d-4df6-8f06-afdf93a2a84b",
   "metadata": {},
   "source": [
    "#### d) You don’t worry too much about what this code is doing at this stage of the\r\n",
    "course, but for completeness: it imports the NumPy random number generation\r\n",
    "library, then generates a 50 × 5 matrix of standard normal\r\n",
    "M.Tech. Data Science and Modelling & Simulate 2 | 2\r\n",
    "random variates and exponentiates them. The effect of this is to have a pretend\r\n",
    "data set of 50 independent and identically-distributed vectors from a log-normal\r\n",
    "distribution."
   ]
  },
  {
   "cell_type": "markdown",
   "id": "4dc8ccd0-e28a-4602-9fc0-59f8ebbe8fbf",
   "metadata": {},
   "source": [
    "#### e) Now, compute the mean and standard deviation of each column. This should\r\n",
    "result in two vectors of length 5. You’ll need to think a little bit about how to use\r\n",
    "the axis argument to mean and std. Store these vectors into variables and print\r\n",
    "both of them."
   ]
  },
  {
   "cell_type": "code",
   "execution_count": 243,
   "id": "36d98447-4a2d-4854-9da1-e7e9de6c24f2",
   "metadata": {},
   "outputs": [],
   "source": [
    "mean = np.mean(data , axis = 0)\n",
    "variance = np.var(data , axis = 0)"
   ]
  },
  {
   "cell_type": "code",
   "execution_count": 245,
   "id": "12e000b7-a4ae-46fc-8db2-f39c08d57702",
   "metadata": {},
   "outputs": [
    {
     "name": "stdout",
     "output_type": "stream",
     "text": [
      "mean of the col --> [1.2999969  1.61895836 2.15621057 0.90733431 1.67892229]\n",
      "variance of the col --> [1.26024705 2.0751206  6.2354655  0.64038778 4.85974604]\n"
     ]
    }
   ],
   "source": [
    "print(\"mean of the col -->\",mean)\n",
    "print(\"variance of the col -->\",variance)"
   ]
  },
  {
   "cell_type": "code",
   "execution_count": 258,
   "id": "6821b62c-945b-4d15-a276-39e3649b5864",
   "metadata": {},
   "outputs": [
    {
     "data": {
      "text/plain": [
       "array([1.12260725, 1.44052789, 2.49709141, 0.80024233, 2.20448317])"
      ]
     },
     "execution_count": 258,
     "metadata": {},
     "output_type": "execute_result"
    }
   ],
   "source": [
    "std = np.std(data ,axis = 0)\n",
    "std"
   ]
  },
  {
   "cell_type": "markdown",
   "id": "ae4024fd-a503-4d0e-9e7e-25de6edfaa03",
   "metadata": {},
   "source": [
    "#### f) Now standardize the data matrix by 1) subtracting the mean off of each column,\r\n",
    "and 2) dividing each column by its standard deviation. Do this via broadcasting,\r\n",
    "and store the result in a matrix called normalized. To verify that you successfully\r\n",
    "did it, compute the mean and standard deviation of\r\n",
    "the columns of normalized and print them out."
   ]
  },
  {
   "cell_type": "code",
   "execution_count": 261,
   "id": "ed6cde87-8c7b-488c-b08f-df44b1abfcbe",
   "metadata": {},
   "outputs": [],
   "source": [
    "data = data - mean"
   ]
  },
  {
   "cell_type": "code",
   "execution_count": 265,
   "id": "dcc8d664-75c5-42c6-a813-99429385a53c",
   "metadata": {},
   "outputs": [
    {
     "data": {
      "text/plain": [
       "array([[ 5.06627546e-01,  6.28680944e-01,  3.00543037e+00,\n",
       "         2.92966350e-01, -6.94730075e-01],\n",
       "       [-3.25026516e-01, -8.30301109e-01, -8.38191322e-01,\n",
       "        -6.27488998e-01, -1.32293699e+00],\n",
       "       [-1.23263439e+00, -1.22859763e+00, -1.81253070e+00,\n",
       "        -4.05085776e-01, -8.76321586e-01],\n",
       "       [-1.00197908e+00, -1.38221274e+00,  8.81072715e-01,\n",
       "         7.28900860e-01, -1.19087108e+00],\n",
       "       [ 4.21035910e+00, -1.09592238e+00,  1.00296092e+00,\n",
       "        -7.18939648e-01, -2.28273216e-01],\n",
       "       [ 1.39658917e-01,  1.21594986e+00, -8.97231129e-02,\n",
       "         5.61204541e-01,  1.11580925e-01],\n",
       "       [-1.09634731e+00,  7.33002799e-01, -1.78046966e+00,\n",
       "        -3.07248759e-01, -1.03439602e+00],\n",
       "       [ 3.93490285e-01, -5.52219087e-01, -1.35234005e+00,\n",
       "        -5.11873654e-01, -3.55167745e-01],\n",
       "       [-9.96476408e-01,  1.88716589e+00, -1.90902844e+00,\n",
       "        -5.67760639e-01,  1.87327085e+00],\n",
       "       [-4.08903162e-02, -1.03435182e+00, -7.86902757e-01,\n",
       "         4.92452981e-01, -1.28991437e+00],\n",
       "       [ 3.86662700e-01, -1.34256749e+00, -1.22929970e+00,\n",
       "         5.40288454e-02,  1.82106614e-01],\n",
       "       [ 3.02635204e-01, -1.01815838e+00, -1.59852590e+00,\n",
       "        -2.94115587e-01, -1.04953929e+00],\n",
       "       [-1.20579961e+00, -8.05878719e-01, -1.12679029e+00,\n",
       "        -6.17950829e-01,  6.15309649e-01],\n",
       "       [ 2.20191202e+00, -1.46557647e+00,  1.19788800e+00,\n",
       "        -5.19834015e-01,  8.68813375e-01],\n",
       "       [-2.41053706e-01,  4.25680218e-01,  1.24855519e-01,\n",
       "        -1.01295488e-01, -4.66015774e-01],\n",
       "       [ 1.49137651e-01,  1.05245470e+00,  1.80020659e+00,\n",
       "        -4.67991461e-01,  6.53448138e+00],\n",
       "       [-9.35872145e-01,  4.45965656e+00,  1.56659081e+00,\n",
       "         2.68418633e-01, -9.42265453e-01],\n",
       "       [ 1.67060912e+00, -1.31934575e+00,  3.27553075e-01,\n",
       "        -1.57039260e-01, -1.17956270e+00],\n",
       "       [-3.84290465e-01, -1.04286302e+00,  2.57298210e+00,\n",
       "        -2.20658237e-02,  1.21206147e+01],\n",
       "       [ 1.80901195e+00,  4.08672611e-01, -1.42824687e+00,\n",
       "         2.31970709e-01,  1.73491210e+00],\n",
       "       [-2.10527435e-02, -2.19679411e-01, -4.42578034e-01,\n",
       "        -5.63636117e-01, -1.37336224e+00],\n",
       "       [ 2.84684693e+00, -8.55713522e-01, -1.70904812e-01,\n",
       "         3.60831363e-01, -7.92538776e-01],\n",
       "       [-1.19540464e+00, -1.32733318e+00, -4.37068687e-01,\n",
       "         4.31909105e-01,  2.47623904e-03],\n",
       "       [ 1.58338879e-01, -1.04544301e+00, -1.26993548e+00,\n",
       "         2.59716989e-01, -9.73830351e-01],\n",
       "       [-9.09095212e-01, -1.13971506e+00,  4.70441755e+00,\n",
       "        -7.91096888e-01,  1.19153699e+00],\n",
       "       [-8.88181925e-01, -1.32200340e-01,  3.84222448e-01,\n",
       "        -1.59126450e-01,  2.25645264e+00],\n",
       "       [ 2.71492926e-01, -1.00351806e+00, -1.93055695e+00,\n",
       "        -1.33714602e-01, -1.41404324e+00],\n",
       "       [-4.73069383e-01, -1.24654381e-01,  1.55268123e+00,\n",
       "        -5.70448006e-01, -8.18248173e-01],\n",
       "       [ 9.02471075e-01, -1.45549296e+00, -1.86234920e+00,\n",
       "        -7.53450415e-01, -3.43144852e-01],\n",
       "       [-9.04465124e-01,  2.27733853e+00, -1.81725902e+00,\n",
       "         1.67163779e+00, -3.05816672e-01],\n",
       "       [-3.36076438e-01, -6.10429663e-01,  1.31837017e+00,\n",
       "        -6.69067757e-01,  1.22405779e-01],\n",
       "       [-6.97439629e-01, -6.98551601e-01,  2.29871451e-01,\n",
       "        -1.67480534e-01, -4.30540607e-01],\n",
       "       [-6.16295922e-01, -1.19203890e+00, -1.46940828e+00,\n",
       "         1.26663263e+00, -2.75856372e-01],\n",
       "       [ 2.40751845e+00,  5.83203816e-01,  3.72042983e+00,\n",
       "        -6.14698403e-01,  2.55515148e+00],\n",
       "       [ 7.78478936e-01,  1.59642323e+00, -1.75401336e-01,\n",
       "        -6.04593000e-01,  4.82953979e-01],\n",
       "       [-2.68683122e-02, -1.18114473e+00,  1.35083119e+01,\n",
       "        -7.01253853e-01, -1.03116125e+00],\n",
       "       [ 2.60788243e-01, -1.06522676e+00, -1.81753480e+00,\n",
       "        -4.95678906e-01, -1.18741782e+00],\n",
       "       [-7.40795778e-02,  1.38373356e+00, -1.61797796e+00,\n",
       "        -4.72952904e-01,  2.66506155e-01],\n",
       "       [-1.16651571e+00,  2.67587086e+00, -3.59929369e-01,\n",
       "        -8.16386474e-01, -7.61502509e-01],\n",
       "       [-1.04493912e+00,  2.24152655e+00, -1.84610726e+00,\n",
       "         1.79332450e+00, -1.26579250e+00],\n",
       "       [-1.00167798e+00, -9.71618983e-02, -1.33643432e+00,\n",
       "        -1.35941825e-01, -4.13859027e-01],\n",
       "       [-9.47391873e-01,  2.70523577e+00, -1.75691023e+00,\n",
       "         1.18329957e-01, -1.35811739e+00],\n",
       "       [-7.22785010e-01,  3.94985286e+00, -1.39552639e+00,\n",
       "         5.17691738e-02, -9.19513837e-01],\n",
       "       [-4.99686437e-02,  1.57989459e-01, -1.32076361e+00,\n",
       "         4.46227657e-01, -1.14856630e+00],\n",
       "       [-3.91332525e-01,  2.17222381e-01, -1.65948962e+00,\n",
       "         3.58125305e+00, -1.25200928e+00],\n",
       "       [ 1.60546653e-01, -6.57044015e-02, -9.82973528e-01,\n",
       "         8.52415161e-02, -9.63758312e-01],\n",
       "       [ 1.69833745e-01, -1.10676385e+00, -1.20633829e+00,\n",
       "        -6.62814933e-01, -5.98276522e-01],\n",
       "       [-7.83971841e-01, -2.53849526e-01, -9.93227971e-01,\n",
       "         1.29184338e+00, -4.07091653e-01],\n",
       "       [ 1.60899959e-01, -7.32896115e-01,  2.16625333e+00,\n",
       "        -1.28827329e-01, -1.56938225e+00],\n",
       "       [-1.76338740e-01, -1.17414863e+00, -2.43374077e-01,\n",
       "        -2.28801695e-01, -6.84748606e-01]])"
      ]
     },
     "execution_count": 265,
     "metadata": {},
     "output_type": "execute_result"
    }
   ],
   "source": [
    "data"
   ]
  },
  {
   "cell_type": "code",
   "execution_count": 267,
   "id": "eb19cdb5-91f1-4bc2-8a25-56e93287aa2e",
   "metadata": {},
   "outputs": [],
   "source": [
    "normalised = data/std"
   ]
  },
  {
   "cell_type": "code",
   "execution_count": 269,
   "id": "5e60c451-5ab6-4013-9fca-6fefd071059f",
   "metadata": {},
   "outputs": [
    {
     "data": {
      "text/plain": [
       "array([[ 4.51295450e-01,  4.36424000e-01,  1.20357243e+00,\n",
       "         3.66097044e-01, -3.15144195e-01],\n",
       "       [-2.89528252e-01, -5.76386695e-01, -3.35667056e-01,\n",
       "        -7.84123730e-01, -6.00112083e-01],\n",
       "       [-1.09801035e+00, -8.52880143e-01, -7.25856768e-01,\n",
       "        -5.06203887e-01, -3.97517930e-01],\n",
       "       [-8.92546416e-01, -9.59518208e-01,  3.52839593e-01,\n",
       "         9.10850171e-01, -5.40204205e-01],\n",
       "       [ 3.75051834e+00, -7.60778318e-01,  4.01651664e-01,\n",
       "        -8.98402427e-01, -1.03549539e-01],\n",
       "       [ 1.24405857e-01,  8.44100189e-01, -3.59310487e-02,\n",
       "         7.01293249e-01,  5.06154577e-02],\n",
       "       [-9.76608076e-01,  5.08843185e-01, -7.13017414e-01,\n",
       "        -3.83944649e-01, -4.69223825e-01],\n",
       "       [ 3.50514647e-01, -3.83344947e-01, -5.41566097e-01,\n",
       "        -6.39648313e-01, -1.61111570e-01],\n",
       "       [-8.87644726e-01,  1.31005161e+00, -7.64500826e-01,\n",
       "        -7.09485890e-01,  8.49755117e-01],\n",
       "       [-3.64244183e-02, -7.18036647e-01, -3.15127734e-01,\n",
       "         6.15379823e-01, -5.85132328e-01],\n",
       "       [ 3.44432746e-01, -9.31996874e-01, -4.92292631e-01,\n",
       "         6.75156058e-02,  8.26073961e-02],\n",
       "       [ 2.69582441e-01, -7.06795325e-01, -6.40155140e-01,\n",
       "        -3.67533155e-01, -4.76093127e-01],\n",
       "       [-1.07410637e+00, -5.59432917e-01, -4.51241106e-01,\n",
       "        -7.72204630e-01,  2.79117417e-01],\n",
       "       [ 1.96142686e+00, -1.01738847e+00,  4.79713316e-01,\n",
       "        -6.49595751e-01,  3.94112047e-01],\n",
       "       [-2.14726660e-01,  2.95502934e-01,  5.00003797e-02,\n",
       "        -1.26581017e-01, -2.11394571e-01],\n",
       "       [ 1.32849356e-01,  7.30603488e-01,  7.20921381e-01,\n",
       "        -5.84812182e-01,  2.96417839e+00],\n",
       "       [-8.33659450e-01,  3.09584882e+00,  6.27366224e-01,\n",
       "         3.35421690e-01, -4.27431457e-01],\n",
       "       [ 1.48815101e+00, -9.15876576e-01,  1.31173843e-01,\n",
       "        -1.96239633e-01, -5.35074487e-01],\n",
       "       [-3.42319599e-01, -7.23945041e-01,  1.03039164e+00,\n",
       "        -2.75739273e-02,  5.49816611e+00],\n",
       "       [ 1.61143797e+00,  2.83696424e-01, -5.71964192e-01,\n",
       "         2.89875580e-01,  7.86992670e-01],\n",
       "       [-1.87534362e-02, -1.52499242e-01, -1.77237418e-01,\n",
       "        -7.04331798e-01, -6.22986040e-01],\n",
       "       [ 2.53592423e+00, -5.94027737e-01, -6.84415522e-02,\n",
       "         4.50902622e-01, -3.59512282e-01],\n",
       "       [-1.06484671e+00, -9.21421366e-01, -1.75031112e-01,\n",
       "         5.39722894e-01,  1.12327419e-03],\n",
       "       [ 1.41045658e-01, -7.25736040e-01, -5.08565877e-01,\n",
       "         3.24547929e-01, -4.41749959e-01],\n",
       "       [-8.09807000e-01, -7.91178757e-01,  1.88395889e+00,\n",
       "        -9.88571664e-01,  5.40506278e-01],\n",
       "       [-7.91177789e-01, -9.17721488e-02,  1.53867995e-01,\n",
       "        -1.98847830e-01,  1.02357445e+00],\n",
       "       [ 2.41841414e-01, -6.96632164e-01, -7.73122258e-01,\n",
       "        -1.67092639e-01, -6.41439798e-01],\n",
       "       [-4.21402393e-01, -8.65338202e-02,  6.21795913e-01,\n",
       "        -7.12844081e-01, -3.71174607e-01],\n",
       "       [ 8.03906328e-01, -1.01038860e+00, -7.45807381e-01,\n",
       "        -9.41527823e-01, -1.55657733e-01],\n",
       "       [-8.05682593e-01,  1.58090554e+00, -7.27750300e-01,\n",
       "         2.08891449e+00, -1.38724884e-01],\n",
       "       [-2.99371340e-01, -4.23754144e-01,  5.27962319e-01,\n",
       "        -8.36081441e-01,  5.55258395e-02],\n",
       "       [-6.21267702e-01, -4.84927509e-01,  9.20556815e-02,\n",
       "        -2.09287272e-01, -1.95302288e-01],\n",
       "       [-5.48986228e-01, -8.27501436e-01, -5.88447933e-01,\n",
       "         1.58281134e+00, -1.25134261e-01],\n",
       "       [ 2.14457767e+00,  4.04854235e-01,  1.48990534e+00,\n",
       "        -7.68140328e-01,  1.15907053e+00],\n",
       "       [ 6.93456179e-01,  1.10822098e+00, -7.02422569e-02,\n",
       "        -7.55512399e-01,  2.19078097e-01],\n",
       "       [-2.39338487e-02, -8.19938818e-01,  5.40961851e+00,\n",
       "        -8.76301877e-01, -4.67756461e-01],\n",
       "       [ 2.32305859e-01, -7.39469724e-01, -7.27860739e-01,\n",
       "        -6.19411008e-01, -5.38637733e-01],\n",
       "       [-6.59888644e-02,  9.60573949e-01, -6.47945028e-01,\n",
       "        -5.91012108e-01,  1.20892805e-01],\n",
       "       [-1.03911293e+00,  1.85756269e+00, -1.44139445e-01,\n",
       "        -1.02017407e+00, -3.45433578e-01],\n",
       "       [-9.30814511e-01,  1.55604523e+00, -7.39303037e-01,\n",
       "         2.24097681e+00, -5.74190140e-01],\n",
       "       [-8.92278201e-01, -6.74488144e-02, -5.35196395e-01,\n",
       "        -1.69875825e-01, -1.87735172e-01],\n",
       "       [-8.43921033e-01,  1.87794752e+00, -7.03582664e-01,\n",
       "         1.47867656e-01, -6.16070653e-01],\n",
       "       [-6.43844949e-01,  2.74194821e+00, -5.58860754e-01,\n",
       "         6.46918716e-02, -4.17110845e-01],\n",
       "       [-4.45112425e-02,  1.09674696e-01, -5.28920811e-01,\n",
       "         5.57615666e-01, -5.21013868e-01],\n",
       "       [-3.48592550e-01,  1.50793596e-01, -6.64569030e-01,\n",
       "         4.47521074e+00, -5.67937781e-01],\n",
       "       [ 1.43012307e-01, -4.56113360e-02, -3.93647395e-01,\n",
       "         1.06519629e-01, -4.37181071e-01],\n",
       "       [ 1.51285095e-01, -7.68304353e-01, -4.83097369e-01,\n",
       "        -8.28267777e-01, -2.71390832e-01],\n",
       "       [-6.98349167e-01, -1.76219793e-01, -3.97753950e-01,\n",
       "         1.61431523e+00, -1.84665349e-01],\n",
       "       [ 1.43327026e-01, -5.08769126e-01,  8.67510628e-01,\n",
       "        -1.60985398e-01, -7.11904845e-01],\n",
       "       [-1.57079637e-01, -8.15082192e-01, -9.74630227e-02,\n",
       "        -2.85915513e-01, -3.10616391e-01]])"
      ]
     },
     "execution_count": 269,
     "metadata": {},
     "output_type": "execute_result"
    }
   ],
   "source": [
    "normalised"
   ]
  },
  {
   "cell_type": "code",
   "execution_count": 271,
   "id": "c161535d-6fde-49e2-a439-74427516d72c",
   "metadata": {},
   "outputs": [
    {
     "data": {
      "text/plain": [
       "2.2204460492503132e-17"
      ]
     },
     "execution_count": 271,
     "metadata": {},
     "output_type": "execute_result"
    }
   ],
   "source": [
    "np.mean(normalised)"
   ]
  },
  {
   "cell_type": "code",
   "execution_count": 273,
   "id": "048aca3c-a98b-4c7f-b45b-3ae44e7ffd8c",
   "metadata": {},
   "outputs": [
    {
     "data": {
      "text/plain": [
       "1.0"
      ]
     },
     "execution_count": 273,
     "metadata": {},
     "output_type": "execute_result"
    }
   ],
   "source": [
    "np.var(normalised)"
   ]
  },
  {
   "cell_type": "code",
   "execution_count": 275,
   "id": "3437b879-d3e0-431f-b2ee-c91940ae3976",
   "metadata": {},
   "outputs": [
    {
     "data": {
      "text/plain": [
       "1.0"
      ]
     },
     "execution_count": 275,
     "metadata": {},
     "output_type": "execute_result"
    }
   ],
   "source": [
    "np.std(normalised)"
   ]
  },
  {
   "cell_type": "markdown",
   "id": "45c86858-08d0-4da1-bf55-ca3d39d83979",
   "metadata": {},
   "source": [
    "# Qustion no. 3"
   ]
  },
  {
   "cell_type": "markdown",
   "id": "323faf45-3819-4f17-966a-011a99dba693",
   "metadata": {},
   "source": [
    "####  A\n",
    "\n",
    "\n",
    "\n",
    "\n",
    "\n",
    "\n",
    "\n",
    "\n",
    "\n",
    "\n",
    "\n",
    "\n",
    "\n",
    "\n",
    "\n",
    "\n",
    "\n",
    "\n",
    "\n",
    "\n",
    "nt the\r\n",
    "result."
   ]
  },
  {
   "cell_type": "code",
   "execution_count": 286,
   "id": "23f2daf1-5e9c-4c34-a9e7-91bf754758ab",
   "metadata": {},
   "outputs": [
    {
     "data": {
      "text/plain": [
       "array([[          1,           1,           1,           1,           1,\n",
       "                  1,           1,           1,           1,           1,\n",
       "                  1,           1],\n",
       "       [          1,           2,           4,           8,          16,\n",
       "                 32,          64,         128,         256,         512,\n",
       "               1024,        2048],\n",
       "       [          1,           3,           9,          27,          81,\n",
       "                243,         729,        2187,        6561,       19683,\n",
       "              59049,      177147],\n",
       "       [          1,           4,          16,          64,         256,\n",
       "               1024,        4096,       16384,       65536,      262144,\n",
       "            1048576,     4194304],\n",
       "       [          1,           5,          25,         125,         625,\n",
       "               3125,       15625,       78125,      390625,     1953125,\n",
       "            9765625,    48828125],\n",
       "       [          1,           6,          36,         216,        1296,\n",
       "               7776,       46656,      279936,     1679616,    10077696,\n",
       "           60466176,   362797056],\n",
       "       [          1,           7,          49,         343,        2401,\n",
       "              16807,      117649,      823543,     5764801,    40353607,\n",
       "          282475249,  1977326743],\n",
       "       [          1,           8,          64,         512,        4096,\n",
       "              32768,      262144,     2097152,    16777216,   134217728,\n",
       "         1073741824,           0],\n",
       "       [          1,           9,          81,         729,        6561,\n",
       "              59049,      531441,     4782969,    43046721,   387420489,\n",
       "         -808182895,  1316288537],\n",
       "       [          1,          10,         100,        1000,       10000,\n",
       "             100000,     1000000,    10000000,   100000000,  1000000000,\n",
       "         1410065408,  1215752192],\n",
       "       [          1,          11,         121,        1331,       14641,\n",
       "             161051,     1771561,    19487171,   214358881, -1937019605,\n",
       "          167620825,  1843829075],\n",
       "       [          1,          12,         144,        1728,       20736,\n",
       "             248832,     2985984,    35831808,   429981696,   864813056,\n",
       "         1787822080,   -20971520]])"
      ]
     },
     "execution_count": 286,
     "metadata": {},
     "output_type": "execute_result"
    }
   ],
   "source": [
    "import numpy as np\n",
    "\n",
    "def vendermonde(N):\n",
    "    vec = np.arange(N) + 1\n",
    "    vec = vec.reshape(-1,1)\n",
    "    b = np.arange(N)\n",
    "    global vender\n",
    "    vender = vec**b\n",
    "    return vender\n",
    "\n",
    "vendermonde(12)"
   ]
  },
  {
   "cell_type": "markdown",
   "id": "16b98498-9900-4ad5-a221-e0cecc0697d8",
   "metadata": {},
   "source": [
    "#### B)"
   ]
  },
  {
   "cell_type": "code",
   "execution_count": 291,
   "id": "15b54258-38da-4634-be9d-40ffceae17ad",
   "metadata": {},
   "outputs": [
    {
     "name": "stdout",
     "output_type": "stream",
     "text": [
      "[1. 1. 1. 1. 1. 1. 1. 1. 1. 1. 1. 1.]\n"
     ]
    },
    {
     "data": {
      "text/plain": [
       "array([1.20000000e+01, 4.09500000e+03, 2.65720000e+05, 5.59240500e+06,\n",
       "       6.10351560e+07, 4.35356467e+08, 2.30688120e+09, 1.22713351e+09,\n",
       "       9.43953692e+08, 3.73692871e+09, 3.10225064e+08, 3.10073456e+09])"
      ]
     },
     "execution_count": 291,
     "metadata": {},
     "output_type": "execute_result"
    }
   ],
   "source": [
    "#  linear system  vender * X = b\n",
    "X = np.ones(12)\n",
    "X = X.T\n",
    "print(X)\n",
    "b = np.matmul(vender,X)\n",
    "b"
   ]
  },
  {
   "cell_type": "markdown",
   "id": "955b67f6-17b6-49b0-8edc-93eb9c66b71e",
   "metadata": {},
   "source": [
    "#### C)"
   ]
  },
  {
   "cell_type": "code",
   "execution_count": 310,
   "id": "7417e396-7054-4775-923b-b70d312ba399",
   "metadata": {},
   "outputs": [
    {
     "data": {
      "text/plain": [
       "array([0.99365711, 1.00758362, 0.99868774, 1.00006294, 0.99999857,\n",
       "       1.00000048, 0.99999993, 1.        , 1.        , 1.        ,\n",
       "       1.        , 1.        ])"
      ]
     },
     "execution_count": 310,
     "metadata": {},
     "output_type": "execute_result"
    }
   ],
   "source": [
    "inv_vender = np.linalg.inv(vender) \n",
    "\n",
    "new = np.matmul(inv_vender , b)\n",
    "new"
   ]
  },
  {
   "cell_type": "code",
   "execution_count": 305,
   "id": "f1073bd0-aa03-4c08-98a2-ba42939c4c62",
   "metadata": {},
   "outputs": [],
   "source": [
    "# i expected that the result should be vector X\n",
    "# but insted of that the value are little diffrent (approximately 1)\n",
    "# some value are more than 1 and some are less than 1\n",
    "# first reson i can think is overflow of data as we take vendermonde matrix as 12 x 12 \n",
    "# last value of matrix got 0 or -ive values \n",
    "# other reson is the python use binary conversion before showing any result \n",
    "# may be becuse of that"
   ]
  },
  {
   "cell_type": "markdown",
   "id": "a9ae0f0c-f662-47a2-8ad6-4157a4cc6ff7",
   "metadata": {},
   "source": [
    "#### D)"
   ]
  },
  {
   "cell_type": "code",
   "execution_count": 314,
   "id": "ca7f4c99-4a37-4541-8061-cfab90b489be",
   "metadata": {},
   "outputs": [
    {
     "data": {
      "text/plain": [
       "array([0.99998827, 1.00002951, 0.99997139, 1.00001427, 0.99999595,\n",
       "       1.00000068, 0.99999993, 1.        , 1.        , 1.        ,\n",
       "       1.        , 1.        ])"
      ]
     },
     "execution_count": 314,
     "metadata": {},
     "output_type": "execute_result"
    }
   ],
   "source": [
    "np.linalg.solve(vender,b)"
   ]
  },
  {
   "cell_type": "code",
   "execution_count": 316,
   "id": "7ac237eb-b107-446f-9296-988cf98ff44d",
   "metadata": {},
   "outputs": [],
   "source": [
    "# becuse python use binary conversion to show the result\n",
    "# it is more close to what we expected \n",
    "# it is more accurte than the previous one"
   ]
  },
  {
   "cell_type": "code",
   "execution_count": 319,
   "id": "59b6ebe0-284b-470b-84d0-9ef1441335ab",
   "metadata": {},
   "outputs": [],
   "source": [
    "# https://github.com/Frozen-icebar-007/Sagar-Gupta-_-24-14-12/new/main"
   ]
  },
  {
   "cell_type": "code",
   "execution_count": null,
   "id": "b9df72bf-fc82-4aa9-92f8-83bcfae32b71",
   "metadata": {},
   "outputs": [],
   "source": []
  }
 ],
 "metadata": {
  "kernelspec": {
   "display_name": "Python 3 (ipykernel)",
   "language": "python",
   "name": "python3"
  },
  "language_info": {
   "codemirror_mode": {
    "name": "ipython",
    "version": 3
   },
   "file_extension": ".py",
   "mimetype": "text/x-python",
   "name": "python",
   "nbconvert_exporter": "python",
   "pygments_lexer": "ipython3",
   "version": "3.12.4"
  }
 },
 "nbformat": 4,
 "nbformat_minor": 5
}
